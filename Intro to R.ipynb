{
 "cells": [
  {
   "cell_type": "markdown",
   "metadata": {},
   "source": [
    "# Introduction to R"
   ]
  },
  {
   "cell_type": "markdown",
   "metadata": {},
   "source": [
    "In this lesson I'll show you the basics of getting data into R and making some basic plots. I'll use the same data as last time - somatic mutations in GBM patients from TCGA.\n",
    "\n",
    "The TCGA somatic mutation files have a row for each mutation in each person in the GBM cohort. The columns are information about each mutation.\n",
    "\n",
    "I'll also use a table with age and cancer type information for all TCGA samples. The goal of today will be to find out if number of mutations in GBM is correlated with age. \n",
    "\n",
    "    (like the previous example demonstrating a negative correlation between beers consumed and productivity, just more .. depressing)\n"
   ]
  },
  {
   "cell_type": "markdown",
   "metadata": {},
   "source": [
    "## Reading data into R"
   ]
  },
  {
   "cell_type": "markdown",
   "metadata": {},
   "source": [
    "Before we can start making dope plots in R, we need to pass the mutation data from the file to R, which is most often done with the *read.table()* function in R.\n",
    "\n",
    "Functions in R take the general form form : *function( argument1, argument2, argument3 )* \n",
    "\n",
    "\n",
    "\n",
    "\n",
    "\n"
   ]
  },
  {
   "cell_type": "markdown",
   "metadata": {},
   "source": [
    "For example, the cell below reads in a tab delimited text file called '~/Documents/blog/somatic_mutations/TCGA.GBM.somatic.maf' and saves the data as an R data frame object called mutations\n",
    "\n",
    "* sep = tells read.table how the columns of data are separated (in this case by tabs '\\t' is R speak for tab)\n",
    "* header = tells read.table whether the first row of the file is a name for each column"
   ]
  },
  {
   "cell_type": "code",
   "execution_count": 53,
   "metadata": {
    "collapsed": false
   },
   "outputs": [],
   "source": [
    "mutations=read.table('~/Documents/blog/somatic_mutations/TCGA.GBM.somatic.maf', sep='\\t', header=TRUE)"
   ]
  },
  {
   "cell_type": "code",
   "execution_count": 14,
   "metadata": {
    "collapsed": false
   },
   "outputs": [],
   "source": [
    "covariates=read.table('~/Documents/blog/somatic_mutations/TCGA.covaraiates.txt', sep='\\t', header=TRUE)"
   ]
  },
  {
   "cell_type": "markdown",
   "metadata": {},
   "source": [
    "Lets take a look at these two tables using the *head()* function "
   ]
  },
  {
   "cell_type": "code",
   "execution_count": 54,
   "metadata": {
    "collapsed": false
   },
   "outputs": [
    {
     "data": {
      "text/html": [
       "<table>\n",
       "<thead><tr><th scope=col>Hugo_Symbol</th><th scope=col>Entrez_Gene_Id</th><th scope=col>Center</th><th scope=col>NCBI_Build</th><th scope=col>Chromosome</th><th scope=col>Start_Position</th><th scope=col>End_Position</th><th scope=col>Strand</th><th scope=col>Variant_Classification</th><th scope=col>Variant_Type</th><th scope=col>⋯</th><th scope=col>ExAC_AF_NFE</th><th scope=col>ExAC_AF_OTH</th><th scope=col>ExAC_AF_SAS</th><th scope=col>GENE_PHENO</th><th scope=col>FILTER</th><th scope=col>src_vcf_id</th><th scope=col>tumor_bam_uuid</th><th scope=col>normal_bam_uuid</th><th scope=col>GDC_Validation_Status</th><th scope=col>GDC_Valid_Somatic</th></tr></thead>\n",
       "<tbody>\n",
       "\t<tr><td>MMEL1                               </td><td> 79258                              </td><td>BI                                  </td><td>GRCh38                              </td><td>chr1                                </td><td> 2598772                            </td><td> 2598772                            </td><td>+                                   </td><td>Missense_Mutation                   </td><td>SNP                                 </td><td>⋯                                   </td><td>NA                                  </td><td>NA                                  </td><td>NA                                  </td><td>NA                                  </td><td>PASS                                </td><td>d2161f0e-bc3b-4ddc-bb93-99465f1e1bad</td><td>54c22723-d609-475c-a5aa-2fc4a2e139c8</td><td>0003003d-5d6c-4a8d-956b-f59995108b26</td><td>Unknown                             </td><td>False                               </td></tr>\n",
       "\t<tr><td>CLSTN1                              </td><td> 22883                              </td><td>BI                                  </td><td>GRCh38                              </td><td>chr1                                </td><td> 9734071                            </td><td> 9734071                            </td><td>+                                   </td><td>Nonsense_Mutation                   </td><td>SNP                                 </td><td>⋯                                   </td><td>NA                                  </td><td>NA                                  </td><td>NA                                  </td><td>NA                                  </td><td>PASS                                </td><td>d2161f0e-bc3b-4ddc-bb93-99465f1e1bad</td><td>54c22723-d609-475c-a5aa-2fc4a2e139c8</td><td>0003003d-5d6c-4a8d-956b-f59995108b26</td><td>Unknown                             </td><td>False                               </td></tr>\n",
       "\t<tr><td>NMNAT1                              </td><td> 64802                              </td><td>BI                                  </td><td>GRCh38                              </td><td>chr1                                </td><td> 9981076                            </td><td> 9981076                            </td><td>+                                   </td><td>Missense_Mutation                   </td><td>SNP                                 </td><td>⋯                                   </td><td>NA                                  </td><td>NA                                  </td><td>NA                                  </td><td>NA                                  </td><td>PASS                                </td><td>d2161f0e-bc3b-4ddc-bb93-99465f1e1bad</td><td>54c22723-d609-475c-a5aa-2fc4a2e139c8</td><td>0003003d-5d6c-4a8d-956b-f59995108b26</td><td>Unknown                             </td><td>False                               </td></tr>\n",
       "\t<tr><td>UBE4B                               </td><td> 10277                              </td><td>BI                                  </td><td>GRCh38                              </td><td>chr1                                </td><td>10179494                            </td><td>10179494                            </td><td>+                                   </td><td>Missense_Mutation                   </td><td>SNP                                 </td><td>⋯                                   </td><td>NA                                  </td><td>NA                                  </td><td>NA                                  </td><td>NA                                  </td><td>PASS                                </td><td>d2161f0e-bc3b-4ddc-bb93-99465f1e1bad</td><td>54c22723-d609-475c-a5aa-2fc4a2e139c8</td><td>0003003d-5d6c-4a8d-956b-f59995108b26</td><td>Unknown                             </td><td>False                               </td></tr>\n",
       "\t<tr><td>RP5-845O24.3                        </td><td>     0                              </td><td>BI                                  </td><td>GRCh38                              </td><td>chr1                                </td><td>12838734                            </td><td>12838734                            </td><td>+                                   </td><td>RNA                                 </td><td>SNP                                 </td><td>⋯                                   </td><td>NA                                  </td><td>NA                                  </td><td>NA                                  </td><td>NA                                  </td><td>PASS                                </td><td>d2161f0e-bc3b-4ddc-bb93-99465f1e1bad</td><td>54c22723-d609-475c-a5aa-2fc4a2e139c8</td><td>0003003d-5d6c-4a8d-956b-f59995108b26</td><td>Unknown                             </td><td>False                               </td></tr>\n",
       "\t<tr><td>SPATA21                             </td><td>374955                              </td><td>BI                                  </td><td>GRCh38                              </td><td>chr1                                </td><td>16403757                            </td><td>16403757                            </td><td>+                                   </td><td>Nonsense_Mutation                   </td><td>SNP                                 </td><td>⋯                                   </td><td>NA                                  </td><td>NA                                  </td><td>NA                                  </td><td>NA                                  </td><td>PASS                                </td><td>d2161f0e-bc3b-4ddc-bb93-99465f1e1bad</td><td>54c22723-d609-475c-a5aa-2fc4a2e139c8</td><td>0003003d-5d6c-4a8d-956b-f59995108b26</td><td>Unknown                             </td><td>False                               </td></tr>\n",
       "</tbody>\n",
       "</table>\n"
      ],
      "text/latex": [
       "\\begin{tabular}{r|llllllllllllllllllllllllllllllllllllllllllllllllllllllllllllllllllllllllllllllllllllllllllllllllllllllllllllllllll}\n",
       " Hugo\\_Symbol & Entrez\\_Gene\\_Id & Center & NCBI\\_Build & Chromosome & Start\\_Position & End\\_Position & Strand & Variant\\_Classification & Variant\\_Type & ⋯ & ExAC\\_AF\\_NFE & ExAC\\_AF\\_OTH & ExAC\\_AF\\_SAS & GENE\\_PHENO & FILTER & src\\_vcf\\_id & tumor\\_bam\\_uuid & normal\\_bam\\_uuid & GDC\\_Validation\\_Status & GDC\\_Valid\\_Somatic\\\\\n",
       "\\hline\n",
       "\t MMEL1                                &  79258                               & BI                                   & GRCh38                               & chr1                                 &  2598772                             &  2598772                             & +                                    & Missense\\_Mutation                  & SNP                                  & ⋯                                    & NA                                   & NA                                   & NA                                   & NA                                   & PASS                                 & d2161f0e-bc3b-4ddc-bb93-99465f1e1bad & 54c22723-d609-475c-a5aa-2fc4a2e139c8 & 0003003d-5d6c-4a8d-956b-f59995108b26 & Unknown                              & False                               \\\\\n",
       "\t CLSTN1                               &  22883                               & BI                                   & GRCh38                               & chr1                                 &  9734071                             &  9734071                             & +                                    & Nonsense\\_Mutation                  & SNP                                  & ⋯                                    & NA                                   & NA                                   & NA                                   & NA                                   & PASS                                 & d2161f0e-bc3b-4ddc-bb93-99465f1e1bad & 54c22723-d609-475c-a5aa-2fc4a2e139c8 & 0003003d-5d6c-4a8d-956b-f59995108b26 & Unknown                              & False                               \\\\\n",
       "\t NMNAT1                               &  64802                               & BI                                   & GRCh38                               & chr1                                 &  9981076                             &  9981076                             & +                                    & Missense\\_Mutation                  & SNP                                  & ⋯                                    & NA                                   & NA                                   & NA                                   & NA                                   & PASS                                 & d2161f0e-bc3b-4ddc-bb93-99465f1e1bad & 54c22723-d609-475c-a5aa-2fc4a2e139c8 & 0003003d-5d6c-4a8d-956b-f59995108b26 & Unknown                              & False                               \\\\\n",
       "\t UBE4B                                &  10277                               & BI                                   & GRCh38                               & chr1                                 & 10179494                             & 10179494                             & +                                    & Missense\\_Mutation                  & SNP                                  & ⋯                                    & NA                                   & NA                                   & NA                                   & NA                                   & PASS                                 & d2161f0e-bc3b-4ddc-bb93-99465f1e1bad & 54c22723-d609-475c-a5aa-2fc4a2e139c8 & 0003003d-5d6c-4a8d-956b-f59995108b26 & Unknown                              & False                               \\\\\n",
       "\t RP5-845O24.3                         &      0                               & BI                                   & GRCh38                               & chr1                                 & 12838734                             & 12838734                             & +                                    & RNA                                  & SNP                                  & ⋯                                    & NA                                   & NA                                   & NA                                   & NA                                   & PASS                                 & d2161f0e-bc3b-4ddc-bb93-99465f1e1bad & 54c22723-d609-475c-a5aa-2fc4a2e139c8 & 0003003d-5d6c-4a8d-956b-f59995108b26 & Unknown                              & False                               \\\\\n",
       "\t SPATA21                              & 374955                               & BI                                   & GRCh38                               & chr1                                 & 16403757                             & 16403757                             & +                                    & Nonsense\\_Mutation                  & SNP                                  & ⋯                                    & NA                                   & NA                                   & NA                                   & NA                                   & PASS                                 & d2161f0e-bc3b-4ddc-bb93-99465f1e1bad & 54c22723-d609-475c-a5aa-2fc4a2e139c8 & 0003003d-5d6c-4a8d-956b-f59995108b26 & Unknown                              & False                               \\\\\n",
       "\\end{tabular}\n"
      ],
      "text/plain": [
       "  Hugo_Symbol  Entrez_Gene_Id Center NCBI_Build Chromosome Start_Position\n",
       "1 MMEL1         79258         BI     GRCh38     chr1        2598772      \n",
       "2 CLSTN1        22883         BI     GRCh38     chr1        9734071      \n",
       "3 NMNAT1        64802         BI     GRCh38     chr1        9981076      \n",
       "4 UBE4B         10277         BI     GRCh38     chr1       10179494      \n",
       "5 RP5-845O24.3      0         BI     GRCh38     chr1       12838734      \n",
       "6 SPATA21      374955         BI     GRCh38     chr1       16403757      \n",
       "  End_Position Strand Variant_Classification Variant_Type ⋯ ExAC_AF_NFE\n",
       "1  2598772     +      Missense_Mutation      SNP          ⋯ NA         \n",
       "2  9734071     +      Nonsense_Mutation      SNP          ⋯ NA         \n",
       "3  9981076     +      Missense_Mutation      SNP          ⋯ NA         \n",
       "4 10179494     +      Missense_Mutation      SNP          ⋯ NA         \n",
       "5 12838734     +      RNA                    SNP          ⋯ NA         \n",
       "6 16403757     +      Nonsense_Mutation      SNP          ⋯ NA         \n",
       "  ExAC_AF_OTH ExAC_AF_SAS GENE_PHENO FILTER\n",
       "1 NA          NA          NA         PASS  \n",
       "2 NA          NA          NA         PASS  \n",
       "3 NA          NA          NA         PASS  \n",
       "4 NA          NA          NA         PASS  \n",
       "5 NA          NA          NA         PASS  \n",
       "6 NA          NA          NA         PASS  \n",
       "  src_vcf_id                           tumor_bam_uuid                      \n",
       "1 d2161f0e-bc3b-4ddc-bb93-99465f1e1bad 54c22723-d609-475c-a5aa-2fc4a2e139c8\n",
       "2 d2161f0e-bc3b-4ddc-bb93-99465f1e1bad 54c22723-d609-475c-a5aa-2fc4a2e139c8\n",
       "3 d2161f0e-bc3b-4ddc-bb93-99465f1e1bad 54c22723-d609-475c-a5aa-2fc4a2e139c8\n",
       "4 d2161f0e-bc3b-4ddc-bb93-99465f1e1bad 54c22723-d609-475c-a5aa-2fc4a2e139c8\n",
       "5 d2161f0e-bc3b-4ddc-bb93-99465f1e1bad 54c22723-d609-475c-a5aa-2fc4a2e139c8\n",
       "6 d2161f0e-bc3b-4ddc-bb93-99465f1e1bad 54c22723-d609-475c-a5aa-2fc4a2e139c8\n",
       "  normal_bam_uuid                      GDC_Validation_Status GDC_Valid_Somatic\n",
       "1 0003003d-5d6c-4a8d-956b-f59995108b26 Unknown               False            \n",
       "2 0003003d-5d6c-4a8d-956b-f59995108b26 Unknown               False            \n",
       "3 0003003d-5d6c-4a8d-956b-f59995108b26 Unknown               False            \n",
       "4 0003003d-5d6c-4a8d-956b-f59995108b26 Unknown               False            \n",
       "5 0003003d-5d6c-4a8d-956b-f59995108b26 Unknown               False            \n",
       "6 0003003d-5d6c-4a8d-956b-f59995108b26 Unknown               False            "
      ]
     },
     "metadata": {},
     "output_type": "display_data"
    }
   ],
   "source": [
    "head(mutations)"
   ]
  },
  {
   "cell_type": "code",
   "execution_count": 55,
   "metadata": {
    "collapsed": false
   },
   "outputs": [
    {
     "data": {
      "text/html": [
       "<table>\n",
       "<thead><tr><th scope=col>ID</th><th scope=col>SEX</th><th scope=col>AGE</th></tr></thead>\n",
       "<tbody>\n",
       "\t<tr><td>TCGA-02-0003-10A-01D-1490-08</td><td>MALE                        </td><td>50.24932                    </td></tr>\n",
       "\t<tr><td>TCGA-02-0033-10A-01D-1490-08</td><td>MALE                        </td><td>54.98630                    </td></tr>\n",
       "\t<tr><td>TCGA-02-0047-10A-01D-1490-08</td><td>MALE                        </td><td>78.79178                    </td></tr>\n",
       "\t<tr><td>TCGA-02-0055-10A-01D-1490-08</td><td>FEMALE                      </td><td>62.46027                    </td></tr>\n",
       "\t<tr><td>TCGA-02-2470-10A-01D-1494-08</td><td>MALE                        </td><td>57.59178                    </td></tr>\n",
       "\t<tr><td>TCGA-02-2483-10A-01D-1494-08</td><td>MALE                        </td><td>43.73699                    </td></tr>\n",
       "</tbody>\n",
       "</table>\n"
      ],
      "text/latex": [
       "\\begin{tabular}{r|lll}\n",
       " ID & SEX & AGE\\\\\n",
       "\\hline\n",
       "\t TCGA-02-0003-10A-01D-1490-08 & MALE                         & 50.24932                    \\\\\n",
       "\t TCGA-02-0033-10A-01D-1490-08 & MALE                         & 54.98630                    \\\\\n",
       "\t TCGA-02-0047-10A-01D-1490-08 & MALE                         & 78.79178                    \\\\\n",
       "\t TCGA-02-0055-10A-01D-1490-08 & FEMALE                       & 62.46027                    \\\\\n",
       "\t TCGA-02-2470-10A-01D-1494-08 & MALE                         & 57.59178                    \\\\\n",
       "\t TCGA-02-2483-10A-01D-1494-08 & MALE                         & 43.73699                    \\\\\n",
       "\\end{tabular}\n"
      ],
      "text/plain": [
       "  ID                           SEX    AGE     \n",
       "1 TCGA-02-0003-10A-01D-1490-08 MALE   50.24932\n",
       "2 TCGA-02-0033-10A-01D-1490-08 MALE   54.98630\n",
       "3 TCGA-02-0047-10A-01D-1490-08 MALE   78.79178\n",
       "4 TCGA-02-0055-10A-01D-1490-08 FEMALE 62.46027\n",
       "5 TCGA-02-2470-10A-01D-1494-08 MALE   57.59178\n",
       "6 TCGA-02-2483-10A-01D-1494-08 MALE   43.73699"
      ]
     },
     "metadata": {},
     "output_type": "display_data"
    }
   ],
   "source": [
    "head(covariates)"
   ]
  },
  {
   "cell_type": "markdown",
   "metadata": {},
   "source": [
    "## Navigating Data Frames"
   ]
  },
  {
   "cell_type": "markdown",
   "metadata": {},
   "source": [
    "We can see how large these data frames are using the *dim()* function, which prints number of rows and number of columns"
   ]
  },
  {
   "cell_type": "code",
   "execution_count": 57,
   "metadata": {
    "collapsed": false
   },
   "outputs": [
    {
     "data": {
      "text/html": [
       "<ol class=list-inline>\n",
       "\t<li>72102</li>\n",
       "\t<li>114</li>\n",
       "</ol>\n"
      ],
      "text/latex": [
       "\\begin{enumerate*}\n",
       "\\item 72102\n",
       "\\item 114\n",
       "\\end{enumerate*}\n"
      ],
      "text/markdown": [
       "1. 72102\n",
       "2. 114\n",
       "\n",
       "\n"
      ],
      "text/plain": [
       "[1] 72102   114"
      ]
     },
     "metadata": {},
     "output_type": "display_data"
    }
   ],
   "source": [
    "dim(mutations)"
   ]
  },
  {
   "cell_type": "code",
   "execution_count": 58,
   "metadata": {
    "collapsed": false
   },
   "outputs": [
    {
     "data": {
      "text/html": [
       "<ol class=list-inline>\n",
       "\t<li>9618</li>\n",
       "\t<li>3</li>\n",
       "</ol>\n"
      ],
      "text/latex": [
       "\\begin{enumerate*}\n",
       "\\item 9618\n",
       "\\item 3\n",
       "\\end{enumerate*}\n"
      ],
      "text/markdown": [
       "1. 9618\n",
       "2. 3\n",
       "\n",
       "\n"
      ],
      "text/plain": [
       "[1] 9618    3"
      ]
     },
     "metadata": {},
     "output_type": "display_data"
    }
   ],
   "source": [
    "dim(covariates)"
   ]
  },
  {
   "cell_type": "markdown",
   "metadata": {},
   "source": [
    "If you remember from last time, the mutation data from TCGA has a lot of columns. We can look at them using the *colnames()* function"
   ]
  },
  {
   "cell_type": "code",
   "execution_count": 56,
   "metadata": {
    "collapsed": false
   },
   "outputs": [
    {
     "data": {
      "text/html": [
       "<ol class=list-inline>\n",
       "\t<li>'Hugo_Symbol'</li>\n",
       "\t<li>'Entrez_Gene_Id'</li>\n",
       "\t<li>'Center'</li>\n",
       "\t<li>'NCBI_Build'</li>\n",
       "\t<li>'Chromosome'</li>\n",
       "\t<li>'Start_Position'</li>\n",
       "\t<li>'End_Position'</li>\n",
       "\t<li>'Strand'</li>\n",
       "\t<li>'Variant_Classification'</li>\n",
       "\t<li>'Variant_Type'</li>\n",
       "\t<li>'Reference_Allele'</li>\n",
       "\t<li>'Tumor_Seq_Allele1'</li>\n",
       "\t<li>'Tumor_Seq_Allele2'</li>\n",
       "\t<li>'dbSNP_RS'</li>\n",
       "\t<li>'dbSNP_Val_Status'</li>\n",
       "\t<li>'Tumor_Sample_Barcode'</li>\n",
       "\t<li>'Matched_Norm_Sample_Barcode'</li>\n",
       "\t<li>'Match_Norm_Seq_Allele1'</li>\n",
       "\t<li>'Match_Norm_Seq_Allele2'</li>\n",
       "\t<li>'Tumor_Validation_Allele1'</li>\n",
       "\t<li>'Tumor_Validation_Allele2'</li>\n",
       "\t<li>'Match_Norm_Validation_Allele1'</li>\n",
       "\t<li>'Match_Norm_Validation_Allele2'</li>\n",
       "\t<li>'Verification_Status'</li>\n",
       "\t<li>'Validation_Status'</li>\n",
       "\t<li>'Mutation_Status'</li>\n",
       "\t<li>'Sequencing_Phase'</li>\n",
       "\t<li>'Sequence_Source'</li>\n",
       "\t<li>'Validation_Method'</li>\n",
       "\t<li>'Score'</li>\n",
       "\t<li>'BAM_File'</li>\n",
       "\t<li>'Sequencer'</li>\n",
       "\t<li>'Tumor_Sample_UUID'</li>\n",
       "\t<li>'Matched_Norm_Sample_UUID'</li>\n",
       "\t<li>'HGVSc'</li>\n",
       "\t<li>'HGVSp'</li>\n",
       "\t<li>'HGVSp_Short'</li>\n",
       "\t<li>'Transcript_ID'</li>\n",
       "\t<li>'Exon_Number'</li>\n",
       "\t<li>'t_depth'</li>\n",
       "\t<li>'t_ref_count'</li>\n",
       "\t<li>'t_alt_count'</li>\n",
       "\t<li>'n_depth'</li>\n",
       "\t<li>'n_ref_count'</li>\n",
       "\t<li>'n_alt_count'</li>\n",
       "\t<li>'all_effects'</li>\n",
       "\t<li>'Allele'</li>\n",
       "\t<li>'Gene'</li>\n",
       "\t<li>'Feature'</li>\n",
       "\t<li>'Feature_type'</li>\n",
       "\t<li>'Consequence'</li>\n",
       "\t<li>'cDNA_position'</li>\n",
       "\t<li>'CDS_position'</li>\n",
       "\t<li>'Protein_position'</li>\n",
       "\t<li>'Amino_acids'</li>\n",
       "\t<li>'Codons'</li>\n",
       "\t<li>'Existing_variation'</li>\n",
       "\t<li>'ALLELE_NUM'</li>\n",
       "\t<li>'DISTANCE'</li>\n",
       "\t<li>'TRANSCRIPT_STRAND'</li>\n",
       "\t<li>'SYMBOL'</li>\n",
       "\t<li>'SYMBOL_SOURCE'</li>\n",
       "\t<li>'HGNC_ID'</li>\n",
       "\t<li>'BIOTYPE'</li>\n",
       "\t<li>'CANONICAL'</li>\n",
       "\t<li>'CCDS'</li>\n",
       "\t<li>'ENSP'</li>\n",
       "\t<li>'SWISSPROT'</li>\n",
       "\t<li>'TREMBL'</li>\n",
       "\t<li>'UNIPARC'</li>\n",
       "\t<li>'RefSeq'</li>\n",
       "\t<li>'SIFT'</li>\n",
       "\t<li>'PolyPhen'</li>\n",
       "\t<li>'EXON'</li>\n",
       "\t<li>'INTRON'</li>\n",
       "\t<li>'DOMAINS'</li>\n",
       "\t<li>'GMAF'</li>\n",
       "\t<li>'AFR_MAF'</li>\n",
       "\t<li>'AMR_MAF'</li>\n",
       "\t<li>'ASN_MAF'</li>\n",
       "\t<li>'EAS_MAF'</li>\n",
       "\t<li>'EUR_MAF'</li>\n",
       "\t<li>'SAS_MAF'</li>\n",
       "\t<li>'AA_MAF'</li>\n",
       "\t<li>'EA_MAF'</li>\n",
       "\t<li>'CLIN_SIG'</li>\n",
       "\t<li>'SOMATIC'</li>\n",
       "\t<li>'PUBMED'</li>\n",
       "\t<li>'MOTIF_NAME'</li>\n",
       "\t<li>'MOTIF_POS'</li>\n",
       "\t<li>'HIGH_INF_POS'</li>\n",
       "\t<li>'MOTIF_SCORE_CHANGE'</li>\n",
       "\t<li>'IMPACT'</li>\n",
       "\t<li>'PICK'</li>\n",
       "\t<li>'VARIANT_CLASS'</li>\n",
       "\t<li>'TSL'</li>\n",
       "\t<li>'HGVS_OFFSET'</li>\n",
       "\t<li>'PHENO'</li>\n",
       "\t<li>'MINIMISED'</li>\n",
       "\t<li>'ExAC_AF'</li>\n",
       "\t<li>'ExAC_AF_AFR'</li>\n",
       "\t<li>'ExAC_AF_AMR'</li>\n",
       "\t<li>'ExAC_AF_EAS'</li>\n",
       "\t<li>'ExAC_AF_FIN'</li>\n",
       "\t<li>'ExAC_AF_NFE'</li>\n",
       "\t<li>'ExAC_AF_OTH'</li>\n",
       "\t<li>'ExAC_AF_SAS'</li>\n",
       "\t<li>'GENE_PHENO'</li>\n",
       "\t<li>'FILTER'</li>\n",
       "\t<li>'src_vcf_id'</li>\n",
       "\t<li>'tumor_bam_uuid'</li>\n",
       "\t<li>'normal_bam_uuid'</li>\n",
       "\t<li>'GDC_Validation_Status'</li>\n",
       "\t<li>'GDC_Valid_Somatic'</li>\n",
       "</ol>\n"
      ],
      "text/latex": [
       "\\begin{enumerate*}\n",
       "\\item 'Hugo\\_Symbol'\n",
       "\\item 'Entrez\\_Gene\\_Id'\n",
       "\\item 'Center'\n",
       "\\item 'NCBI\\_Build'\n",
       "\\item 'Chromosome'\n",
       "\\item 'Start\\_Position'\n",
       "\\item 'End\\_Position'\n",
       "\\item 'Strand'\n",
       "\\item 'Variant\\_Classification'\n",
       "\\item 'Variant\\_Type'\n",
       "\\item 'Reference\\_Allele'\n",
       "\\item 'Tumor\\_Seq\\_Allele1'\n",
       "\\item 'Tumor\\_Seq\\_Allele2'\n",
       "\\item 'dbSNP\\_RS'\n",
       "\\item 'dbSNP\\_Val\\_Status'\n",
       "\\item 'Tumor\\_Sample\\_Barcode'\n",
       "\\item 'Matched\\_Norm\\_Sample\\_Barcode'\n",
       "\\item 'Match\\_Norm\\_Seq\\_Allele1'\n",
       "\\item 'Match\\_Norm\\_Seq\\_Allele2'\n",
       "\\item 'Tumor\\_Validation\\_Allele1'\n",
       "\\item 'Tumor\\_Validation\\_Allele2'\n",
       "\\item 'Match\\_Norm\\_Validation\\_Allele1'\n",
       "\\item 'Match\\_Norm\\_Validation\\_Allele2'\n",
       "\\item 'Verification\\_Status'\n",
       "\\item 'Validation\\_Status'\n",
       "\\item 'Mutation\\_Status'\n",
       "\\item 'Sequencing\\_Phase'\n",
       "\\item 'Sequence\\_Source'\n",
       "\\item 'Validation\\_Method'\n",
       "\\item 'Score'\n",
       "\\item 'BAM\\_File'\n",
       "\\item 'Sequencer'\n",
       "\\item 'Tumor\\_Sample\\_UUID'\n",
       "\\item 'Matched\\_Norm\\_Sample\\_UUID'\n",
       "\\item 'HGVSc'\n",
       "\\item 'HGVSp'\n",
       "\\item 'HGVSp\\_Short'\n",
       "\\item 'Transcript\\_ID'\n",
       "\\item 'Exon\\_Number'\n",
       "\\item 't\\_depth'\n",
       "\\item 't\\_ref\\_count'\n",
       "\\item 't\\_alt\\_count'\n",
       "\\item 'n\\_depth'\n",
       "\\item 'n\\_ref\\_count'\n",
       "\\item 'n\\_alt\\_count'\n",
       "\\item 'all\\_effects'\n",
       "\\item 'Allele'\n",
       "\\item 'Gene'\n",
       "\\item 'Feature'\n",
       "\\item 'Feature\\_type'\n",
       "\\item 'Consequence'\n",
       "\\item 'cDNA\\_position'\n",
       "\\item 'CDS\\_position'\n",
       "\\item 'Protein\\_position'\n",
       "\\item 'Amino\\_acids'\n",
       "\\item 'Codons'\n",
       "\\item 'Existing\\_variation'\n",
       "\\item 'ALLELE\\_NUM'\n",
       "\\item 'DISTANCE'\n",
       "\\item 'TRANSCRIPT\\_STRAND'\n",
       "\\item 'SYMBOL'\n",
       "\\item 'SYMBOL\\_SOURCE'\n",
       "\\item 'HGNC\\_ID'\n",
       "\\item 'BIOTYPE'\n",
       "\\item 'CANONICAL'\n",
       "\\item 'CCDS'\n",
       "\\item 'ENSP'\n",
       "\\item 'SWISSPROT'\n",
       "\\item 'TREMBL'\n",
       "\\item 'UNIPARC'\n",
       "\\item 'RefSeq'\n",
       "\\item 'SIFT'\n",
       "\\item 'PolyPhen'\n",
       "\\item 'EXON'\n",
       "\\item 'INTRON'\n",
       "\\item 'DOMAINS'\n",
       "\\item 'GMAF'\n",
       "\\item 'AFR\\_MAF'\n",
       "\\item 'AMR\\_MAF'\n",
       "\\item 'ASN\\_MAF'\n",
       "\\item 'EAS\\_MAF'\n",
       "\\item 'EUR\\_MAF'\n",
       "\\item 'SAS\\_MAF'\n",
       "\\item 'AA\\_MAF'\n",
       "\\item 'EA\\_MAF'\n",
       "\\item 'CLIN\\_SIG'\n",
       "\\item 'SOMATIC'\n",
       "\\item 'PUBMED'\n",
       "\\item 'MOTIF\\_NAME'\n",
       "\\item 'MOTIF\\_POS'\n",
       "\\item 'HIGH\\_INF\\_POS'\n",
       "\\item 'MOTIF\\_SCORE\\_CHANGE'\n",
       "\\item 'IMPACT'\n",
       "\\item 'PICK'\n",
       "\\item 'VARIANT\\_CLASS'\n",
       "\\item 'TSL'\n",
       "\\item 'HGVS\\_OFFSET'\n",
       "\\item 'PHENO'\n",
       "\\item 'MINIMISED'\n",
       "\\item 'ExAC\\_AF'\n",
       "\\item 'ExAC\\_AF\\_AFR'\n",
       "\\item 'ExAC\\_AF\\_AMR'\n",
       "\\item 'ExAC\\_AF\\_EAS'\n",
       "\\item 'ExAC\\_AF\\_FIN'\n",
       "\\item 'ExAC\\_AF\\_NFE'\n",
       "\\item 'ExAC\\_AF\\_OTH'\n",
       "\\item 'ExAC\\_AF\\_SAS'\n",
       "\\item 'GENE\\_PHENO'\n",
       "\\item 'FILTER'\n",
       "\\item 'src\\_vcf\\_id'\n",
       "\\item 'tumor\\_bam\\_uuid'\n",
       "\\item 'normal\\_bam\\_uuid'\n",
       "\\item 'GDC\\_Validation\\_Status'\n",
       "\\item 'GDC\\_Valid\\_Somatic'\n",
       "\\end{enumerate*}\n"
      ],
      "text/markdown": [
       "1. 'Hugo_Symbol'\n",
       "2. 'Entrez_Gene_Id'\n",
       "3. 'Center'\n",
       "4. 'NCBI_Build'\n",
       "5. 'Chromosome'\n",
       "6. 'Start_Position'\n",
       "7. 'End_Position'\n",
       "8. 'Strand'\n",
       "9. 'Variant_Classification'\n",
       "10. 'Variant_Type'\n",
       "11. 'Reference_Allele'\n",
       "12. 'Tumor_Seq_Allele1'\n",
       "13. 'Tumor_Seq_Allele2'\n",
       "14. 'dbSNP_RS'\n",
       "15. 'dbSNP_Val_Status'\n",
       "16. 'Tumor_Sample_Barcode'\n",
       "17. 'Matched_Norm_Sample_Barcode'\n",
       "18. 'Match_Norm_Seq_Allele1'\n",
       "19. 'Match_Norm_Seq_Allele2'\n",
       "20. 'Tumor_Validation_Allele1'\n",
       "21. 'Tumor_Validation_Allele2'\n",
       "22. 'Match_Norm_Validation_Allele1'\n",
       "23. 'Match_Norm_Validation_Allele2'\n",
       "24. 'Verification_Status'\n",
       "25. 'Validation_Status'\n",
       "26. 'Mutation_Status'\n",
       "27. 'Sequencing_Phase'\n",
       "28. 'Sequence_Source'\n",
       "29. 'Validation_Method'\n",
       "30. 'Score'\n",
       "31. 'BAM_File'\n",
       "32. 'Sequencer'\n",
       "33. 'Tumor_Sample_UUID'\n",
       "34. 'Matched_Norm_Sample_UUID'\n",
       "35. 'HGVSc'\n",
       "36. 'HGVSp'\n",
       "37. 'HGVSp_Short'\n",
       "38. 'Transcript_ID'\n",
       "39. 'Exon_Number'\n",
       "40. 't_depth'\n",
       "41. 't_ref_count'\n",
       "42. 't_alt_count'\n",
       "43. 'n_depth'\n",
       "44. 'n_ref_count'\n",
       "45. 'n_alt_count'\n",
       "46. 'all_effects'\n",
       "47. 'Allele'\n",
       "48. 'Gene'\n",
       "49. 'Feature'\n",
       "50. 'Feature_type'\n",
       "51. 'Consequence'\n",
       "52. 'cDNA_position'\n",
       "53. 'CDS_position'\n",
       "54. 'Protein_position'\n",
       "55. 'Amino_acids'\n",
       "56. 'Codons'\n",
       "57. 'Existing_variation'\n",
       "58. 'ALLELE_NUM'\n",
       "59. 'DISTANCE'\n",
       "60. 'TRANSCRIPT_STRAND'\n",
       "61. 'SYMBOL'\n",
       "62. 'SYMBOL_SOURCE'\n",
       "63. 'HGNC_ID'\n",
       "64. 'BIOTYPE'\n",
       "65. 'CANONICAL'\n",
       "66. 'CCDS'\n",
       "67. 'ENSP'\n",
       "68. 'SWISSPROT'\n",
       "69. 'TREMBL'\n",
       "70. 'UNIPARC'\n",
       "71. 'RefSeq'\n",
       "72. 'SIFT'\n",
       "73. 'PolyPhen'\n",
       "74. 'EXON'\n",
       "75. 'INTRON'\n",
       "76. 'DOMAINS'\n",
       "77. 'GMAF'\n",
       "78. 'AFR_MAF'\n",
       "79. 'AMR_MAF'\n",
       "80. 'ASN_MAF'\n",
       "81. 'EAS_MAF'\n",
       "82. 'EUR_MAF'\n",
       "83. 'SAS_MAF'\n",
       "84. 'AA_MAF'\n",
       "85. 'EA_MAF'\n",
       "86. 'CLIN_SIG'\n",
       "87. 'SOMATIC'\n",
       "88. 'PUBMED'\n",
       "89. 'MOTIF_NAME'\n",
       "90. 'MOTIF_POS'\n",
       "91. 'HIGH_INF_POS'\n",
       "92. 'MOTIF_SCORE_CHANGE'\n",
       "93. 'IMPACT'\n",
       "94. 'PICK'\n",
       "95. 'VARIANT_CLASS'\n",
       "96. 'TSL'\n",
       "97. 'HGVS_OFFSET'\n",
       "98. 'PHENO'\n",
       "99. 'MINIMISED'\n",
       "100. 'ExAC_AF'\n",
       "101. 'ExAC_AF_AFR'\n",
       "102. 'ExAC_AF_AMR'\n",
       "103. 'ExAC_AF_EAS'\n",
       "104. 'ExAC_AF_FIN'\n",
       "105. 'ExAC_AF_NFE'\n",
       "106. 'ExAC_AF_OTH'\n",
       "107. 'ExAC_AF_SAS'\n",
       "108. 'GENE_PHENO'\n",
       "109. 'FILTER'\n",
       "110. 'src_vcf_id'\n",
       "111. 'tumor_bam_uuid'\n",
       "112. 'normal_bam_uuid'\n",
       "113. 'GDC_Validation_Status'\n",
       "114. 'GDC_Valid_Somatic'\n",
       "\n",
       "\n"
      ],
      "text/plain": [
       "  [1] \"Hugo_Symbol\"                   \"Entrez_Gene_Id\"               \n",
       "  [3] \"Center\"                        \"NCBI_Build\"                   \n",
       "  [5] \"Chromosome\"                    \"Start_Position\"               \n",
       "  [7] \"End_Position\"                  \"Strand\"                       \n",
       "  [9] \"Variant_Classification\"        \"Variant_Type\"                 \n",
       " [11] \"Reference_Allele\"              \"Tumor_Seq_Allele1\"            \n",
       " [13] \"Tumor_Seq_Allele2\"             \"dbSNP_RS\"                     \n",
       " [15] \"dbSNP_Val_Status\"              \"Tumor_Sample_Barcode\"         \n",
       " [17] \"Matched_Norm_Sample_Barcode\"   \"Match_Norm_Seq_Allele1\"       \n",
       " [19] \"Match_Norm_Seq_Allele2\"        \"Tumor_Validation_Allele1\"     \n",
       " [21] \"Tumor_Validation_Allele2\"      \"Match_Norm_Validation_Allele1\"\n",
       " [23] \"Match_Norm_Validation_Allele2\" \"Verification_Status\"          \n",
       " [25] \"Validation_Status\"             \"Mutation_Status\"              \n",
       " [27] \"Sequencing_Phase\"              \"Sequence_Source\"              \n",
       " [29] \"Validation_Method\"             \"Score\"                        \n",
       " [31] \"BAM_File\"                      \"Sequencer\"                    \n",
       " [33] \"Tumor_Sample_UUID\"             \"Matched_Norm_Sample_UUID\"     \n",
       " [35] \"HGVSc\"                         \"HGVSp\"                        \n",
       " [37] \"HGVSp_Short\"                   \"Transcript_ID\"                \n",
       " [39] \"Exon_Number\"                   \"t_depth\"                      \n",
       " [41] \"t_ref_count\"                   \"t_alt_count\"                  \n",
       " [43] \"n_depth\"                       \"n_ref_count\"                  \n",
       " [45] \"n_alt_count\"                   \"all_effects\"                  \n",
       " [47] \"Allele\"                        \"Gene\"                         \n",
       " [49] \"Feature\"                       \"Feature_type\"                 \n",
       " [51] \"Consequence\"                   \"cDNA_position\"                \n",
       " [53] \"CDS_position\"                  \"Protein_position\"             \n",
       " [55] \"Amino_acids\"                   \"Codons\"                       \n",
       " [57] \"Existing_variation\"            \"ALLELE_NUM\"                   \n",
       " [59] \"DISTANCE\"                      \"TRANSCRIPT_STRAND\"            \n",
       " [61] \"SYMBOL\"                        \"SYMBOL_SOURCE\"                \n",
       " [63] \"HGNC_ID\"                       \"BIOTYPE\"                      \n",
       " [65] \"CANONICAL\"                     \"CCDS\"                         \n",
       " [67] \"ENSP\"                          \"SWISSPROT\"                    \n",
       " [69] \"TREMBL\"                        \"UNIPARC\"                      \n",
       " [71] \"RefSeq\"                        \"SIFT\"                         \n",
       " [73] \"PolyPhen\"                      \"EXON\"                         \n",
       " [75] \"INTRON\"                        \"DOMAINS\"                      \n",
       " [77] \"GMAF\"                          \"AFR_MAF\"                      \n",
       " [79] \"AMR_MAF\"                       \"ASN_MAF\"                      \n",
       " [81] \"EAS_MAF\"                       \"EUR_MAF\"                      \n",
       " [83] \"SAS_MAF\"                       \"AA_MAF\"                       \n",
       " [85] \"EA_MAF\"                        \"CLIN_SIG\"                     \n",
       " [87] \"SOMATIC\"                       \"PUBMED\"                       \n",
       " [89] \"MOTIF_NAME\"                    \"MOTIF_POS\"                    \n",
       " [91] \"HIGH_INF_POS\"                  \"MOTIF_SCORE_CHANGE\"           \n",
       " [93] \"IMPACT\"                        \"PICK\"                         \n",
       " [95] \"VARIANT_CLASS\"                 \"TSL\"                          \n",
       " [97] \"HGVS_OFFSET\"                   \"PHENO\"                        \n",
       " [99] \"MINIMISED\"                     \"ExAC_AF\"                      \n",
       "[101] \"ExAC_AF_AFR\"                   \"ExAC_AF_AMR\"                  \n",
       "[103] \"ExAC_AF_EAS\"                   \"ExAC_AF_FIN\"                  \n",
       "[105] \"ExAC_AF_NFE\"                   \"ExAC_AF_OTH\"                  \n",
       "[107] \"ExAC_AF_SAS\"                   \"GENE_PHENO\"                   \n",
       "[109] \"FILTER\"                        \"src_vcf_id\"                   \n",
       "[111] \"tumor_bam_uuid\"                \"normal_bam_uuid\"              \n",
       "[113] \"GDC_Validation_Status\"         \"GDC_Valid_Somatic\"            "
      ]
     },
     "metadata": {},
     "output_type": "display_data"
    }
   ],
   "source": [
    "colnames(mutations)"
   ]
  },
  {
   "cell_type": "markdown",
   "metadata": {},
   "source": [
    "Lets say we want to look at a single column. There are a few ways to do this with R. \n",
    "\n",
    "* You can pull a single column out with the syntax *mutations\\$COLUMN* the *$* symbol allows you to access a single column from a dataframe by name. \n",
    "\n",
    "\n",
    "\n",
    "* You can also select a column by name or number using the two dimensional format *mutations[, \"COLUMN\"]* *mutations[,9]*\n",
    "    * the *[,]* syntax allows you to access specific *[ rows , ]* and *[, columns]* of a data frame\n"
   ]
  },
  {
   "cell_type": "markdown",
   "metadata": {},
   "source": [
    "Below I demonstrate 4 different ways of getting the same data from the mutations data frame. I use the head command since I know the dataframes are huge and I don't want to fill up the screen with text"
   ]
  },
  {
   "cell_type": "code",
   "execution_count": 73,
   "metadata": {
    "collapsed": false
   },
   "outputs": [
    {
     "data": {
      "text/html": [
       "<ol class=list-inline>\n",
       "\t<li>Missense_Mutation</li>\n",
       "\t<li>Nonsense_Mutation</li>\n",
       "\t<li>Missense_Mutation</li>\n",
       "\t<li>Missense_Mutation</li>\n",
       "\t<li>RNA</li>\n",
       "\t<li>Nonsense_Mutation</li>\n",
       "</ol>\n"
      ],
      "text/latex": [
       "\\begin{enumerate*}\n",
       "\\item Missense\\_Mutation\n",
       "\\item Nonsense\\_Mutation\n",
       "\\item Missense\\_Mutation\n",
       "\\item Missense\\_Mutation\n",
       "\\item RNA\n",
       "\\item Nonsense\\_Mutation\n",
       "\\end{enumerate*}\n"
      ],
      "text/markdown": [
       "1. Missense_Mutation\n",
       "2. Nonsense_Mutation\n",
       "3. Missense_Mutation\n",
       "4. Missense_Mutation\n",
       "5. RNA\n",
       "6. Nonsense_Mutation\n",
       "\n",
       "\n"
      ],
      "text/plain": [
       "[1] Missense_Mutation Nonsense_Mutation Missense_Mutation Missense_Mutation\n",
       "[5] RNA               Nonsense_Mutation\n",
       "12 Levels: Frame_Shift_Del Frame_Shift_Ins In_Frame_Del ... Translation_Start_Site"
      ]
     },
     "metadata": {},
     "output_type": "display_data"
    },
    {
     "data": {
      "text/html": [
       "<ol class=list-inline>\n",
       "\t<li>Missense_Mutation</li>\n",
       "\t<li>Nonsense_Mutation</li>\n",
       "\t<li>Missense_Mutation</li>\n",
       "\t<li>Missense_Mutation</li>\n",
       "\t<li>RNA</li>\n",
       "\t<li>Nonsense_Mutation</li>\n",
       "</ol>\n"
      ],
      "text/latex": [
       "\\begin{enumerate*}\n",
       "\\item Missense\\_Mutation\n",
       "\\item Nonsense\\_Mutation\n",
       "\\item Missense\\_Mutation\n",
       "\\item Missense\\_Mutation\n",
       "\\item RNA\n",
       "\\item Nonsense\\_Mutation\n",
       "\\end{enumerate*}\n"
      ],
      "text/markdown": [
       "1. Missense_Mutation\n",
       "2. Nonsense_Mutation\n",
       "3. Missense_Mutation\n",
       "4. Missense_Mutation\n",
       "5. RNA\n",
       "6. Nonsense_Mutation\n",
       "\n",
       "\n"
      ],
      "text/plain": [
       "[1] Missense_Mutation Nonsense_Mutation Missense_Mutation Missense_Mutation\n",
       "[5] RNA               Nonsense_Mutation\n",
       "12 Levels: Frame_Shift_Del Frame_Shift_Ins In_Frame_Del ... Translation_Start_Site"
      ]
     },
     "metadata": {},
     "output_type": "display_data"
    },
    {
     "data": {
      "text/html": [
       "<ol class=list-inline>\n",
       "\t<li>Missense_Mutation</li>\n",
       "\t<li>Nonsense_Mutation</li>\n",
       "\t<li>Missense_Mutation</li>\n",
       "\t<li>Missense_Mutation</li>\n",
       "\t<li>RNA</li>\n",
       "\t<li>Nonsense_Mutation</li>\n",
       "</ol>\n"
      ],
      "text/latex": [
       "\\begin{enumerate*}\n",
       "\\item Missense\\_Mutation\n",
       "\\item Nonsense\\_Mutation\n",
       "\\item Missense\\_Mutation\n",
       "\\item Missense\\_Mutation\n",
       "\\item RNA\n",
       "\\item Nonsense\\_Mutation\n",
       "\\end{enumerate*}\n"
      ],
      "text/markdown": [
       "1. Missense_Mutation\n",
       "2. Nonsense_Mutation\n",
       "3. Missense_Mutation\n",
       "4. Missense_Mutation\n",
       "5. RNA\n",
       "6. Nonsense_Mutation\n",
       "\n",
       "\n"
      ],
      "text/plain": [
       "[1] Missense_Mutation Nonsense_Mutation Missense_Mutation Missense_Mutation\n",
       "[5] RNA               Nonsense_Mutation\n",
       "12 Levels: Frame_Shift_Del Frame_Shift_Ins In_Frame_Del ... Translation_Start_Site"
      ]
     },
     "metadata": {},
     "output_type": "display_data"
    },
    {
     "data": {
      "text/html": [
       "<ol class=list-inline>\n",
       "\t<li>Missense_Mutation</li>\n",
       "\t<li>Nonsense_Mutation</li>\n",
       "\t<li>Missense_Mutation</li>\n",
       "\t<li>Missense_Mutation</li>\n",
       "\t<li>RNA</li>\n",
       "\t<li>Nonsense_Mutation</li>\n",
       "</ol>\n"
      ],
      "text/latex": [
       "\\begin{enumerate*}\n",
       "\\item Missense\\_Mutation\n",
       "\\item Nonsense\\_Mutation\n",
       "\\item Missense\\_Mutation\n",
       "\\item Missense\\_Mutation\n",
       "\\item RNA\n",
       "\\item Nonsense\\_Mutation\n",
       "\\end{enumerate*}\n"
      ],
      "text/markdown": [
       "1. Missense_Mutation\n",
       "2. Nonsense_Mutation\n",
       "3. Missense_Mutation\n",
       "4. Missense_Mutation\n",
       "5. RNA\n",
       "6. Nonsense_Mutation\n",
       "\n",
       "\n"
      ],
      "text/plain": [
       "[1] Missense_Mutation Nonsense_Mutation Missense_Mutation Missense_Mutation\n",
       "[5] RNA               Nonsense_Mutation\n",
       "12 Levels: Frame_Shift_Del Frame_Shift_Ins In_Frame_Del ... Translation_Start_Site"
      ]
     },
     "metadata": {},
     "output_type": "display_data"
    }
   ],
   "source": [
    "head(mutations$Variant_Classification)\n",
    "head(mutations[, 'Variant_Classification'])\n",
    "head(mutations[,9])\n",
    "mutations[1:6,9]"
   ]
  },
  {
   "cell_type": "markdown",
   "metadata": {},
   "source": [
    "In the last example I demonstrate using ranges like *1:6* to select rows 1 through 6. The same syntax can be used to select multiple columns by number"
   ]
  },
  {
   "cell_type": "markdown",
   "metadata": {},
   "source": [
    "This column indicates the coding consequence of each mutation, therefore is categorical data. A quick way to summarize categorical data in R is to use the *table()* function. This will output the number of times each unique value appears."
   ]
  },
  {
   "cell_type": "code",
   "execution_count": 77,
   "metadata": {
    "collapsed": false
   },
   "outputs": [
    {
     "data": {
      "text/plain": [
       "\n",
       "       Frame_Shift_Del        Frame_Shift_Ins           In_Frame_Del \n",
       "                  1530                   1279                    128 \n",
       "          In_Frame_Ins      Missense_Mutation      Nonsense_Mutation \n",
       "                    87                  42546                   3449 \n",
       "      Nonstop_Mutation                    RNA                 Silent \n",
       "                    60                   8393                  13060 \n",
       "           Splice_Site        Targeted_Region Translation_Start_Site \n",
       "                  1471                     37                     62 "
      ]
     },
     "metadata": {},
     "output_type": "display_data"
    }
   ],
   "source": [
    "table(mutations$Variant_Classification)"
   ]
  },
  {
   "cell_type": "markdown",
   "metadata": {},
   "source": [
    "A word to the wise - don't use table on a column of continuous numeric data ( or anything with more than 10-20 categories ) - it will run forever and give you a huge and messy table. "
   ]
  },
  {
   "cell_type": "markdown",
   "metadata": {},
   "source": [
    "You can summarize numeric data with the *summary()* function"
   ]
  },
  {
   "cell_type": "code",
   "execution_count": 78,
   "metadata": {
    "collapsed": false
   },
   "outputs": [
    {
     "data": {
      "text/plain": [
       "   Min. 1st Qu.  Median    Mean 3rd Qu.    Max. \n",
       "    1.0    56.0   111.0   169.5   203.0  9387.0 "
      ]
     },
     "metadata": {},
     "output_type": "display_data"
    }
   ],
   "source": [
    "summary(mutations$t_depth)"
   ]
  },
  {
   "cell_type": "markdown",
   "metadata": {},
   "source": [
    "Here we can see the range and quartiles of the t_depth columns ( the read depth in the tumor for each mutation). I generally prefer to plot numeric data rather than using the summary function"
   ]
  },
  {
   "cell_type": "markdown",
   "metadata": {},
   "source": [
    "## Plotting in R"
   ]
  },
  {
   "cell_type": "markdown",
   "metadata": {},
   "source": [
    "We don't really care too much about the read depth data, but lets get our feet wet with three basic R plots using the depth data."
   ]
  },
  {
   "cell_type": "code",
   "execution_count": null,
   "metadata": {
    "collapsed": true
   },
   "outputs": [],
   "source": []
  },
  {
   "cell_type": "code",
   "execution_count": null,
   "metadata": {
    "collapsed": true
   },
   "outputs": [],
   "source": []
  },
  {
   "cell_type": "code",
   "execution_count": 28,
   "metadata": {
    "collapsed": false
   },
   "outputs": [],
   "source": [
    "aggmut = aggregate(Variant_Type ~ Matched_Norm_Sample_Barcode, data=mutations, FUN=length)"
   ]
  },
  {
   "cell_type": "code",
   "execution_count": 30,
   "metadata": {
    "collapsed": false
   },
   "outputs": [],
   "source": [
    "fin=merge(aggmut, covariates, by.x='Matched_Norm_Sample_Barcode', by.y='ID')"
   ]
  },
  {
   "cell_type": "code",
   "execution_count": 31,
   "metadata": {
    "collapsed": false
   },
   "outputs": [
    {
     "data": {
      "text/html": [
       "<ol class=list-inline>\n",
       "\t<li>315</li>\n",
       "\t<li>4</li>\n",
       "</ol>\n"
      ],
      "text/latex": [
       "\\begin{enumerate*}\n",
       "\\item 315\n",
       "\\item 4\n",
       "\\end{enumerate*}\n"
      ],
      "text/markdown": [
       "1. 315\n",
       "2. 4\n",
       "\n",
       "\n"
      ],
      "text/plain": [
       "[1] 315   4"
      ]
     },
     "metadata": {},
     "output_type": "display_data"
    }
   ],
   "source": [
    "dim(fin)"
   ]
  },
  {
   "cell_type": "code",
   "execution_count": 33,
   "metadata": {
    "collapsed": false
   },
   "outputs": [
    {
     "data": {
      "image/png": "[encoded data removed]",
      "text/plain": [
       "plot without title"
      ]
     },
     "metadata": {},
     "output_type": "display_data"
    }
   ],
   "source": [
    "boxplot(log10(fin$Variant_Type) ~ fin$SEX)"
   ]
  },
  {
   "cell_type": "code",
   "execution_count": 34,
   "metadata": {
    "collapsed": false
   },
   "outputs": [
    {
     "data": {
      "text/plain": [
       "\n",
       "FEMALE   MALE \n",
       "   111    198 "
      ]
     },
     "metadata": {},
     "output_type": "display_data"
    }
   ],
   "source": [
    "table(fin$SEX)"
   ]
  },
  {
   "cell_type": "code",
   "execution_count": 45,
   "metadata": {
    "collapsed": false
   },
   "outputs": [
    {
     "data": {
      "image/png": "[encoded data removed]",
      "text/plain": [
       "plot without title"
      ]
     },
     "metadata": {},
     "output_type": "display_data"
    }
   ],
   "source": [
    "plot(log10(fin$Variant_Type) ~ fin$AGE)"
   ]
  },
  {
   "cell_type": "code",
   "execution_count": 43,
   "metadata": {
    "collapsed": false
   },
   "outputs": [
    {
     "data": {
      "text/html": [
       "0.127251395448086"
      ],
      "text/latex": [
       "0.127251395448086"
      ],
      "text/markdown": [
       "0.127251395448086"
      ],
      "text/plain": [
       "[1] 0.1272514"
      ]
     },
     "metadata": {},
     "output_type": "display_data"
    }
   ],
   "source": [
    "cor(log10(fin$Variant_Type) , fin$AGE, use=\"complete.obs\")"
   ]
  },
  {
   "cell_type": "code",
   "execution_count": 46,
   "metadata": {
    "collapsed": false
   },
   "outputs": [
    {
     "data": {
      "text/html": [
       "<table>\n",
       "<thead><tr><th></th><th scope=col>Matched_Norm_Sample_Barcode</th><th scope=col>Variant_Type</th><th scope=col>SEX</th><th scope=col>AGE</th></tr></thead>\n",
       "<tbody>\n",
       "\t<tr><th scope=row>100</th><td>TCGA-06-5416-10A-01D-1486-08</td><td>11250                       </td><td>FEMALE                      </td><td>23.37808                    </td></tr>\n",
       "</tbody>\n",
       "</table>\n"
      ],
      "text/latex": [
       "\\begin{tabular}{r|llll}\n",
       "  & Matched\\_Norm\\_Sample\\_Barcode & Variant\\_Type & SEX & AGE\\\\\n",
       "\\hline\n",
       "\t100 & TCGA-06-5416-10A-01D-1486-08 & 11250                        & FEMALE                       & 23.37808                    \\\\\n",
       "\\end{tabular}\n"
      ],
      "text/plain": [
       "    Matched_Norm_Sample_Barcode  Variant_Type SEX    AGE     \n",
       "100 TCGA-06-5416-10A-01D-1486-08 11250        FEMALE 23.37808"
      ]
     },
     "metadata": {},
     "output_type": "display_data"
    }
   ],
   "source": [
    "fin[ fin$Variant_Type > 1000,]"
   ]
  },
  {
   "cell_type": "code",
   "execution_count": 50,
   "metadata": {
    "collapsed": false
   },
   "outputs": [
    {
     "data": {
      "text/html": [
       "0.240566817369183"
      ],
      "text/latex": [
       "0.240566817369183"
      ],
      "text/markdown": [
       "0.240566817369183"
      ],
      "text/plain": [
       "[1] 0.2405668"
      ]
     },
     "metadata": {},
     "output_type": "display_data"
    }
   ],
   "source": [
    "cor(log10(fin[ ! fin$Matched_Norm_Sample_Barcode %in% c('TCGA-06-5416-10A-01D-1486-08'),]$Variant_Type) , \n",
    "    fin[ ! fin$Matched_Norm_Sample_Barcode %in% c('TCGA-06-5416-10A-01D-1486-08'),]$AGE, use=\"complete.obs\")"
   ]
  },
  {
   "cell_type": "code",
   "execution_count": 49,
   "metadata": {
    "collapsed": false
   },
   "outputs": [
    {
     "data": {
      "text/html": [],
      "text/latex": [],
      "text/markdown": [],
      "text/plain": [
       "numeric(0)"
      ]
     },
     "metadata": {},
     "output_type": "display_data"
    }
   ],
   "source": [
    "fin[ !( fin$ID %in% c('TCGA-06-5416-10A-01D-1486-08')),]$AGE"
   ]
  },
  {
   "cell_type": "code",
   "execution_count": 52,
   "metadata": {
    "collapsed": false
   },
   "outputs": [
    {
     "data": {
      "image/png": "[encoded data removed]",
      "text/plain": [
       "plot without title"
      ]
     },
     "metadata": {},
     "output_type": "display_data"
    }
   ],
   "source": [
    "plot(log10(fin$Variant_Type) ~ fin$AGE, pch=6)"
   ]
  },
  {
   "cell_type": "code",
   "execution_count": null,
   "metadata": {
    "collapsed": true
   },
   "outputs": [],
   "source": []
  }
 ],
 "metadata": {
  "kernelspec": {
   "display_name": "R",
   "language": "R",
   "name": "ir"
  },
  "language_info": {
   "codemirror_mode": "r",
   "file_extension": ".r",
   "mimetype": "text/x-r-source",
   "name": "R",
   "pygments_lexer": "r",
   "version": "3.3.1"
  }
 },
 "nbformat": 4,
 "nbformat_minor": 0
}
